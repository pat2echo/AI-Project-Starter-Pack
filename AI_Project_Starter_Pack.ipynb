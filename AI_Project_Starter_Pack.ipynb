{
  "nbformat": 4,
  "nbformat_minor": 0,
  "metadata": {
    "colab": {
      "provenance": [],
      "authorship_tag": "ABX9TyO/IkoEdb0WAZFamVWHYULS",
      "include_colab_link": true
    },
    "kernelspec": {
      "name": "python3",
      "display_name": "Python 3"
    },
    "language_info": {
      "name": "python"
    }
  },
  "cells": [
    {
      "cell_type": "markdown",
      "metadata": {
        "id": "view-in-github",
        "colab_type": "text"
      },
      "source": [
        "<a href=\"https://colab.research.google.com/github/pat2echo/AI-Project-Starter-Pack/blob/main/AI_Project_Starter_Pack.ipynb\" target=\"_parent\"><img src=\"https://colab.research.google.com/assets/colab-badge.svg\" alt=\"Open In Colab\"/></a>"
      ]
    },
    {
      "cell_type": "code",
      "execution_count": null,
      "metadata": {
        "id": "6EKJqrUXAxUo"
      },
      "outputs": [],
      "source": [
        "import os\n",
        "\n",
        "class ProjectSetup:\n",
        "    def __init__(self, title, base_path=\"\"):\n",
        "        self.base_path = base_path\n",
        "        self.title = title\n",
        "        self.directory = \"\"\n",
        "        self.clean_title = \"\"\n",
        "        self.default_modules = {\n",
        "            '__init__.py': None,  # Initializes the Python package\n",
        "            'data': {\n",
        "                '__init__.py': None,\n",
        "                'loader.py': None,  # Data loading functionality\n",
        "                'preprocess.py': None  # Data cleaning and preprocessing\n",
        "            },\n",
        "            'features': {\n",
        "                '__init__.py': None,\n",
        "                'builder.py': None  # Build and transform features\n",
        "            },\n",
        "            'ml_models': {\n",
        "                '__init__.py': None,\n",
        "                'train_model.py': None,  # Training scripts\n",
        "                'predict_model.py': None  # Prediction scripts\n",
        "            },\n",
        "            'nn_models': {\n",
        "                '__init__.py': None,\n",
        "                'train_model.py': None,  # Training scripts\n",
        "                'predict_model.py': None  # Prediction scripts\n",
        "            },\n",
        "            'utils': {\n",
        "                '__init__.py': None,\n",
        "                'helpers.py': None  # Helper functions\n",
        "            },\n",
        "            'visualization': {\n",
        "                '__init__.py': None,\n",
        "                'visualize.py': None  # Plotting and visualization functions\n",
        "            }\n",
        "        }\n",
        "\n",
        "        self.default_directories = {\n",
        "          \"notebooks\": {\n",
        "              \"exploratory_analysis.ipynb\": None,\n",
        "              \"features_engineering.ipynb\": None,\n",
        "              \"model_training.ipynb\": None,\n",
        "              \"model_evaluation.ipynb\": None,\n",
        "              \"explainable_ai.ipynb\": None\n",
        "          },\n",
        "          \"backup_notebooks\": {},\n",
        "          \"tests\": {\n",
        "              \"__init__.py\": None,\n",
        "              \"test_data.py\": None,\n",
        "              \"test_features.py\": None,\n",
        "              \"test_models.py\": None\n",
        "          },\n",
        "          \"setup.py\": None,\n",
        "          \"requirements.txt\": None,\n",
        "          \"README.md\": None\n",
        "      }\n",
        "\n",
        "    def clean_string(self, string):\n",
        "        \"\"\"Replace spaces with underscores in strings\n",
        "\n",
        "        Parameters:\n",
        "          string (str): String to be cleaned\n",
        "\n",
        "        Returns:\n",
        "          str: Lowercase cleaned string\n",
        "        \"\"\"\n",
        "        return string.lower().strip().replace(\" \", \"_\")\n",
        "\n",
        "    def create_directory_and_files(self, path, structure):\n",
        "        \"\"\"Recursively creates directory and sub-directories\"\"\"\n",
        "        for name, content in structure.items():\n",
        "            real_path = os.path.join(path, name)\n",
        "            if isinstance(content, dict):  # It's a directory\n",
        "                self.ensure_directory_exists(real_path)\n",
        "                self.create_directory_and_files(real_path, content)  # Recursively create contents\n",
        "            else:  # It's assumed to be a file\n",
        "                self.ensure_file_exists(real_path)\n",
        "\n",
        "    def ensure_directory_exists(self, path):\n",
        "      \"\"\"Ensure that a directory exists; if it doesn't, create it.\"\"\"\n",
        "      if not os.path.exists(path):\n",
        "          os.makedirs(path)\n",
        "          print(f\"Created directory: {path}\")\n",
        "      else:\n",
        "          print(f\"Directory already exists: {path}\")\n",
        "\n",
        "    def ensure_file_exists(self, path):\n",
        "        \"\"\"Ensure that a file exists; if it doesn't, create it as empty.\"\"\"\n",
        "        if not os.path.exists(path):\n",
        "            open(path, 'a').close()  # Create an empty file\n",
        "            print(f\"Created file: {path}\")\n",
        "        else:\n",
        "            print(f\"File already exists: {path}\")\n",
        "\n",
        "\n",
        "    def new_project(self, project_directories={}):\n",
        "        \"\"\"Creates a project directory and sub-directories\"\"\"\n",
        "\n",
        "        self.clean_title = self.clean_string(self.title)\n",
        "        real_path = os.path.join(self.base_path, self.clean_title)\n",
        "\n",
        "        directories = self.default_directories\n",
        "\n",
        "        if project_directories != {}:\n",
        "          directories = project_directories\n",
        "\n",
        "        if \"notebooks\" in directories:\n",
        "          directories[\"notebooks\"][self.clean_title + \".ipynb\"] = None\n",
        "\n",
        "        self.ensure_directory_exists(real_path)\n",
        "        self.directory = real_path\n",
        "\n",
        "        self.create_directory_and_files(real_path, directories)\n",
        "\n",
        "    def new_package(self, package_name, package_modules={}):\n",
        "        \"\"\"Generates all required directories and files for an AI project\n",
        "\n",
        "        Parameters:\n",
        "          package_name (str): Name of AI Project Package\n",
        "          package_modules (dict): A dictionary containing sub-directories and files in the module. Keys should include:\n",
        "            'directory1' (str): Name of sub-directory. If sub-directory then value is dictionary\n",
        "            'file1' (str): Name of file. If file is None\n",
        "            ... additional directories or files ...\n",
        "\n",
        "        Returns:\n",
        "          none: Returns Nothing\n",
        "        \"\"\"\n",
        "        clean_package_name = self.clean_string(package_name)\n",
        "        real_path = os.path.join(self.directory, clean_package_name)\n",
        "\n",
        "        modules = self.default_modules\n",
        "\n",
        "        if package_modules != {}:\n",
        "          modules = package_modules\n",
        "\n",
        "        self.ensure_directory_exists(real_path)\n",
        "        self.create_directory_and_files(real_path, modules)\n"
      ]
    },
    {
      "cell_type": "code",
      "source": [
        "!git clone https://github.com/pat2echo/AI-Project-Starter-Pack.git"
      ],
      "metadata": {
        "colab": {
          "base_uri": "https://localhost:8080/"
        },
        "id": "ENfjyg1rCbrO",
        "outputId": "0e5232ca-339e-44ff-f34e-4606eb819517"
      },
      "execution_count": null,
      "outputs": [
        {
          "output_type": "stream",
          "name": "stdout",
          "text": [
            "Cloning into 'AI-Project-Starter-Pack'...\n",
            "remote: Enumerating objects: 32, done.\u001b[K\n",
            "remote: Counting objects: 100% (32/32), done.\u001b[K\n",
            "remote: Compressing objects: 100% (26/26), done.\u001b[K\n",
            "remote: Total 32 (delta 6), reused 4 (delta 0), pack-reused 0\u001b[K\n",
            "Receiving objects: 100% (32/32), 10.14 KiB | 2.03 MiB/s, done.\n",
            "Resolving deltas: 100% (6/6), done.\n"
          ]
        }
      ]
    },
    {
      "cell_type": "code",
      "source": [
        "%cd /content/AI-Project-Starter-Pack"
      ],
      "metadata": {
        "colab": {
          "base_uri": "https://localhost:8080/"
        },
        "id": "0GE34b_zCi_A",
        "outputId": "c9b3cd2e-13b8-4cf9-9d29-1289f6f3f3ff"
      },
      "execution_count": null,
      "outputs": [
        {
          "output_type": "stream",
          "name": "stdout",
          "text": [
            "/content/AI-Project-Starter-Pack\n"
          ]
        }
      ]
    },
    {
      "cell_type": "code",
      "source": [
        "ai = ProjectSetup(title=\"AI Project Setup Package\")\n",
        "ai.new_project(project_directories={\n",
        "    \"notebooks\": {},\n",
        "    \"project_setup\": {\n",
        "        \"__init__.py\": None,\n",
        "        \"project_setup.py\": None,\n",
        "    },\n",
        "    \"setup.py\": None,\n",
        "    \"README.md\": None\n",
        "})"
      ],
      "metadata": {
        "colab": {
          "base_uri": "https://localhost:8080/"
        },
        "id": "DcwNwZiMA9ZE",
        "outputId": "29ac2a5e-37ee-4c8e-a5dc-a5e116ff838e"
      },
      "execution_count": null,
      "outputs": [
        {
          "output_type": "stream",
          "name": "stdout",
          "text": [
            "Created directory: ai_project_setup_package\n",
            "Created directory: ai_project_setup_package/notebooks\n",
            "Created file: ai_project_setup_package/notebooks/ai_project_setup_package.ipynb\n",
            "Created directory: ai_project_setup_package/project_setup\n",
            "Created file: ai_project_setup_package/project_setup/__init__.py\n",
            "Created file: ai_project_setup_package/project_setup/project_setup.py\n",
            "Created file: ai_project_setup_package/setup.py\n",
            "Created file: ai_project_setup_package/README.md\n"
          ]
        }
      ]
    },
    {
      "cell_type": "code",
      "source": [
        "!git remote -v"
      ],
      "metadata": {
        "colab": {
          "base_uri": "https://localhost:8080/"
        },
        "id": "tSPdbPIiBgb_",
        "outputId": "da758d29-b6fb-46b1-f08e-5986b9606794"
      },
      "execution_count": null,
      "outputs": [
        {
          "output_type": "stream",
          "name": "stdout",
          "text": [
            "origin\thttps://github.com/pat2echo/AI-Project-Starter-Pack.git (fetch)\n",
            "origin\thttps://github.com/pat2echo/AI-Project-Starter-Pack.git (push)\n"
          ]
        }
      ]
    },
    {
      "cell_type": "code",
      "source": [
        "!git config --global user.email \"pat2echo@gmail.com\"\n",
        "!git config --global user.name \"pat2echo\""
      ],
      "metadata": {
        "id": "_id75rJODAG7"
      },
      "execution_count": null,
      "outputs": []
    },
    {
      "cell_type": "code",
      "source": [
        "pip install ./ai_project_setup_package"
      ],
      "metadata": {
        "colab": {
          "base_uri": "https://localhost:8080/"
        },
        "id": "Tgbdr_AyGTY_",
        "outputId": "ed64ee86-df62-41d2-a3f2-137daeb5033f"
      },
      "execution_count": null,
      "outputs": [
        {
          "output_type": "stream",
          "name": "stdout",
          "text": [
            "Processing ./ai_project_setup_package\n",
            "  Preparing metadata (setup.py) ... \u001b[?25l\u001b[?25hdone\n",
            "Building wheels for collected packages: ai-project-setup\n",
            "  Building wheel for ai-project-setup (setup.py) ... \u001b[?25l\u001b[?25hdone\n",
            "  Created wheel for ai-project-setup: filename=ai_project_setup-0.1.0-py3-none-any.whl size=2909 sha256=c4b7cfb1e698b3074a56b5a72a28e45164b9b31780cd0e276d91fd0094c477c5\n",
            "  Stored in directory: /tmp/pip-ephem-wheel-cache-c13w2592/wheels/26/f9/89/cd231f8128cbe100d8796ee5bd6cb0e9fadd4bbe7809dd5e24\n",
            "Successfully built ai-project-setup\n",
            "Installing collected packages: ai-project-setup\n",
            "Successfully installed ai-project-setup-0.1.0\n"
          ]
        }
      ]
    },
    {
      "cell_type": "code",
      "source": [
        "import ai_project_setup_package.project_setup as ps\n",
        "\n",
        "# Create an instance of ProjectSetup\n",
        "proj = ps.ProjectSetup(\"ExampleProject\", \"../content_ps/example\")\n",
        "\n",
        "# Create the project structure\n",
        "proj.new_project()\n",
        "\n",
        "# Optionally, add a specific package within the project\n",
        "proj.new_package(\"example_package\")\n"
      ],
      "metadata": {
        "colab": {
          "base_uri": "https://localhost:8080/"
        },
        "id": "tOrHEojOIFve",
        "outputId": "ec994159-a684-4342-8dd6-0cf47521bc89"
      },
      "execution_count": null,
      "outputs": [
        {
          "output_type": "stream",
          "name": "stdout",
          "text": [
            "Created directory: ../content_ps/example/exampleproject\n",
            "Created directory: ../content_ps/example/exampleproject/notebooks\n",
            "Created file: ../content_ps/example/exampleproject/notebooks/exploratory_analysis.ipynb\n",
            "Created file: ../content_ps/example/exampleproject/notebooks/features_engineering.ipynb\n",
            "Created file: ../content_ps/example/exampleproject/notebooks/model_training.ipynb\n",
            "Created file: ../content_ps/example/exampleproject/notebooks/model_evaluation.ipynb\n",
            "Created file: ../content_ps/example/exampleproject/notebooks/explainable_ai.ipynb\n",
            "Created file: ../content_ps/example/exampleproject/notebooks/exampleproject.ipynb\n",
            "Created directory: ../content_ps/example/exampleproject/backup_notebooks\n",
            "Created directory: ../content_ps/example/exampleproject/tests\n",
            "Created file: ../content_ps/example/exampleproject/tests/__init__.py\n",
            "Created file: ../content_ps/example/exampleproject/tests/test_data.py\n",
            "Created file: ../content_ps/example/exampleproject/tests/test_features.py\n",
            "Created file: ../content_ps/example/exampleproject/tests/test_models.py\n",
            "Created file: ../content_ps/example/exampleproject/setup.py\n",
            "Created file: ../content_ps/example/exampleproject/requirements.txt\n",
            "Created file: ../content_ps/example/exampleproject/README.md\n",
            "Created directory: ../content_ps/example/exampleproject/example_package\n",
            "Created file: ../content_ps/example/exampleproject/example_package/__init__.py\n",
            "Created directory: ../content_ps/example/exampleproject/example_package/data\n",
            "Created file: ../content_ps/example/exampleproject/example_package/data/__init__.py\n",
            "Created file: ../content_ps/example/exampleproject/example_package/data/loader.py\n",
            "Created file: ../content_ps/example/exampleproject/example_package/data/preprocess.py\n",
            "Created directory: ../content_ps/example/exampleproject/example_package/features\n",
            "Created file: ../content_ps/example/exampleproject/example_package/features/__init__.py\n",
            "Created file: ../content_ps/example/exampleproject/example_package/features/builder.py\n",
            "Created directory: ../content_ps/example/exampleproject/example_package/ml_models\n",
            "Created file: ../content_ps/example/exampleproject/example_package/ml_models/__init__.py\n",
            "Created file: ../content_ps/example/exampleproject/example_package/ml_models/train_model.py\n",
            "Created file: ../content_ps/example/exampleproject/example_package/ml_models/predict_model.py\n",
            "Created directory: ../content_ps/example/exampleproject/example_package/nn_models\n",
            "Created file: ../content_ps/example/exampleproject/example_package/nn_models/__init__.py\n",
            "Created file: ../content_ps/example/exampleproject/example_package/nn_models/train_model.py\n",
            "Created file: ../content_ps/example/exampleproject/example_package/nn_models/predict_model.py\n",
            "Created directory: ../content_ps/example/exampleproject/example_package/utils\n",
            "Created file: ../content_ps/example/exampleproject/example_package/utils/__init__.py\n",
            "Created file: ../content_ps/example/exampleproject/example_package/utils/helpers.py\n",
            "Created directory: ../content_ps/example/exampleproject/example_package/visualization\n",
            "Created file: ../content_ps/example/exampleproject/example_package/visualization/__init__.py\n",
            "Created file: ../content_ps/example/exampleproject/example_package/visualization/visualize.py\n"
          ]
        }
      ]
    },
    {
      "cell_type": "code",
      "source": [
        "from ai_project_setup_package.project_setup import ProjectSetup\n",
        "\n",
        "# Create an instance of ProjectSetup\n",
        "project = ProjectSetup(\"ExampleProject\", \"../content/example\")\n",
        "\n",
        "# Create the project structure\n",
        "project.new_project()\n",
        "\n",
        "# Optionally, add a specific package within the project\n",
        "project.new_package(\"example_package\")\n"
      ],
      "metadata": {
        "colab": {
          "base_uri": "https://localhost:8080/"
        },
        "id": "dHugH8a5FzHi",
        "outputId": "a1cadecd-8876-4b69-e927-25333636a30d"
      },
      "execution_count": null,
      "outputs": [
        {
          "output_type": "stream",
          "name": "stdout",
          "text": [
            "Created directory: ../content1/example/exampleproject\n",
            "Created directory: ../content1/example/exampleproject/notebooks\n",
            "Created file: ../content1/example/exampleproject/notebooks/exploratory_analysis.ipynb\n",
            "Created file: ../content1/example/exampleproject/notebooks/features_engineering.ipynb\n",
            "Created file: ../content1/example/exampleproject/notebooks/model_training.ipynb\n",
            "Created file: ../content1/example/exampleproject/notebooks/model_evaluation.ipynb\n",
            "Created file: ../content1/example/exampleproject/notebooks/explainable_ai.ipynb\n",
            "Created file: ../content1/example/exampleproject/notebooks/exampleproject.ipynb\n",
            "Created directory: ../content1/example/exampleproject/backup_notebooks\n",
            "Created directory: ../content1/example/exampleproject/tests\n",
            "Created file: ../content1/example/exampleproject/tests/__init__.py\n",
            "Created file: ../content1/example/exampleproject/tests/test_data.py\n",
            "Created file: ../content1/example/exampleproject/tests/test_features.py\n",
            "Created file: ../content1/example/exampleproject/tests/test_models.py\n",
            "Created file: ../content1/example/exampleproject/setup.py\n",
            "Created file: ../content1/example/exampleproject/requirements.txt\n",
            "Created file: ../content1/example/exampleproject/README.md\n",
            "Created directory: ../content1/example/exampleproject/example_package\n",
            "Created file: ../content1/example/exampleproject/example_package/__init__.py\n",
            "Created directory: ../content1/example/exampleproject/example_package/data\n",
            "Created file: ../content1/example/exampleproject/example_package/data/__init__.py\n",
            "Created file: ../content1/example/exampleproject/example_package/data/loader.py\n",
            "Created file: ../content1/example/exampleproject/example_package/data/preprocess.py\n",
            "Created directory: ../content1/example/exampleproject/example_package/features\n",
            "Created file: ../content1/example/exampleproject/example_package/features/__init__.py\n",
            "Created file: ../content1/example/exampleproject/example_package/features/builder.py\n",
            "Created directory: ../content1/example/exampleproject/example_package/ml_models\n",
            "Created file: ../content1/example/exampleproject/example_package/ml_models/__init__.py\n",
            "Created file: ../content1/example/exampleproject/example_package/ml_models/train_model.py\n",
            "Created file: ../content1/example/exampleproject/example_package/ml_models/predict_model.py\n",
            "Created directory: ../content1/example/exampleproject/example_package/nn_models\n",
            "Created file: ../content1/example/exampleproject/example_package/nn_models/__init__.py\n",
            "Created file: ../content1/example/exampleproject/example_package/nn_models/train_model.py\n",
            "Created file: ../content1/example/exampleproject/example_package/nn_models/predict_model.py\n",
            "Created directory: ../content1/example/exampleproject/example_package/utils\n",
            "Created file: ../content1/example/exampleproject/example_package/utils/__init__.py\n",
            "Created file: ../content1/example/exampleproject/example_package/utils/helpers.py\n",
            "Created directory: ../content1/example/exampleproject/example_package/visualization\n",
            "Created file: ../content1/example/exampleproject/example_package/visualization/__init__.py\n",
            "Created file: ../content1/example/exampleproject/example_package/visualization/visualize.py\n"
          ]
        }
      ]
    },
    {
      "cell_type": "code",
      "source": [
        "pip install --upgrade setuptools wheel\n"
      ],
      "metadata": {
        "colab": {
          "base_uri": "https://localhost:8080/",
          "height": 344
        },
        "id": "hk8dHwumKCwG",
        "outputId": "eb0da66a-17f9-4dd2-deb4-5bcfb3badbf8"
      },
      "execution_count": null,
      "outputs": [
        {
          "output_type": "stream",
          "name": "stdout",
          "text": [
            "Requirement already satisfied: setuptools in /usr/local/lib/python3.10/dist-packages (67.7.2)\n",
            "Collecting setuptools\n",
            "  Using cached setuptools-69.5.1-py3-none-any.whl (894 kB)\n",
            "Requirement already satisfied: wheel in /usr/local/lib/python3.10/dist-packages (0.43.0)\n",
            "Installing collected packages: setuptools\n",
            "  Attempting uninstall: setuptools\n",
            "    Found existing installation: setuptools 67.7.2\n",
            "    Uninstalling setuptools-67.7.2:\n",
            "      Successfully uninstalled setuptools-67.7.2\n",
            "\u001b[31mERROR: pip's dependency resolver does not currently take into account all the packages that are installed. This behaviour is the source of the following dependency conflicts.\n",
            "ipython 7.34.0 requires jedi>=0.16, which is not installed.\u001b[0m\u001b[31m\n",
            "\u001b[0mSuccessfully installed setuptools-69.5.1\n"
          ]
        },
        {
          "output_type": "display_data",
          "data": {
            "application/vnd.colab-display-data+json": {
              "pip_warning": {
                "packages": [
                  "_distutils_hack",
                  "pkg_resources",
                  "setuptools"
                ]
              },
              "id": "4da106c609804f9e9b1367c3a8a84bb5"
            }
          },
          "metadata": {}
        }
      ]
    },
    {
      "cell_type": "code",
      "source": [
        "%cd /content/AI-Project-Starter-Pack\n",
        "%cd ./ai_project_setup_package/\n",
        "import os\n",
        "print('List files: ', os.listdir())\n",
        "!python setup.py sdist bdist_wheel\n"
      ],
      "metadata": {
        "colab": {
          "base_uri": "https://localhost:8080/"
        },
        "id": "vfDjP_ajKOHP",
        "outputId": "654d9d95-2ce9-45ed-a471-b82d72ef5be2"
      },
      "execution_count": null,
      "outputs": [
        {
          "output_type": "stream",
          "name": "stdout",
          "text": [
            "/content/AI-Project-Starter-Pack\n",
            "/content/AI-Project-Starter-Pack/ai_project_setup_package\n",
            "List files:  ['notebooks', 'README.md', 'project_setup', 'setup.py']\n",
            "running sdist\n",
            "running egg_info\n",
            "creating ai_project_setup.egg-info\n",
            "writing ai_project_setup.egg-info/PKG-INFO\n",
            "writing dependency_links to ai_project_setup.egg-info/dependency_links.txt\n",
            "writing top-level names to ai_project_setup.egg-info/top_level.txt\n",
            "writing manifest file 'ai_project_setup.egg-info/SOURCES.txt'\n",
            "reading manifest file 'ai_project_setup.egg-info/SOURCES.txt'\n",
            "writing manifest file 'ai_project_setup.egg-info/SOURCES.txt'\n",
            "running check\n",
            "creating ai_project_setup-0.1.0\n",
            "creating ai_project_setup-0.1.0/ai_project_setup.egg-info\n",
            "creating ai_project_setup-0.1.0/project_setup\n",
            "copying files to ai_project_setup-0.1.0...\n",
            "copying README.md -> ai_project_setup-0.1.0\n",
            "copying setup.py -> ai_project_setup-0.1.0\n",
            "copying ai_project_setup.egg-info/PKG-INFO -> ai_project_setup-0.1.0/ai_project_setup.egg-info\n",
            "copying ai_project_setup.egg-info/SOURCES.txt -> ai_project_setup-0.1.0/ai_project_setup.egg-info\n",
            "copying ai_project_setup.egg-info/dependency_links.txt -> ai_project_setup-0.1.0/ai_project_setup.egg-info\n",
            "copying ai_project_setup.egg-info/top_level.txt -> ai_project_setup-0.1.0/ai_project_setup.egg-info\n",
            "copying project_setup/__init__.py -> ai_project_setup-0.1.0/project_setup\n",
            "copying project_setup/project_setup.py -> ai_project_setup-0.1.0/project_setup\n",
            "copying ai_project_setup.egg-info/SOURCES.txt -> ai_project_setup-0.1.0/ai_project_setup.egg-info\n",
            "Writing ai_project_setup-0.1.0/setup.cfg\n",
            "creating dist\n",
            "Creating tar archive\n",
            "removing 'ai_project_setup-0.1.0' (and everything under it)\n",
            "running bdist_wheel\n",
            "running build\n",
            "running build_py\n",
            "creating build\n",
            "creating build/lib\n",
            "creating build/lib/project_setup\n",
            "copying project_setup/__init__.py -> build/lib/project_setup\n",
            "copying project_setup/project_setup.py -> build/lib/project_setup\n",
            "/usr/local/lib/python3.10/dist-packages/setuptools/_distutils/cmd.py:66: SetuptoolsDeprecationWarning: setup.py install is deprecated.\n",
            "!!\n",
            "\n",
            "        ********************************************************************************\n",
            "        Please avoid running ``setup.py`` directly.\n",
            "        Instead, use pypa/build, pypa/installer or other\n",
            "        standards-based tools.\n",
            "\n",
            "        See https://blog.ganssle.io/articles/2021/10/setup-py-deprecated.html for details.\n",
            "        ********************************************************************************\n",
            "\n",
            "!!\n",
            "  self.initialize_options()\n",
            "installing to build/bdist.linux-x86_64/wheel\n",
            "running install\n",
            "running install_lib\n",
            "creating build/bdist.linux-x86_64\n",
            "creating build/bdist.linux-x86_64/wheel\n",
            "creating build/bdist.linux-x86_64/wheel/project_setup\n",
            "copying build/lib/project_setup/__init__.py -> build/bdist.linux-x86_64/wheel/project_setup\n",
            "copying build/lib/project_setup/project_setup.py -> build/bdist.linux-x86_64/wheel/project_setup\n",
            "running install_egg_info\n",
            "Copying ai_project_setup.egg-info to build/bdist.linux-x86_64/wheel/ai_project_setup-0.1.0-py3.10.egg-info\n",
            "running install_scripts\n",
            "creating build/bdist.linux-x86_64/wheel/ai_project_setup-0.1.0.dist-info/WHEEL\n",
            "creating 'dist/ai_project_setup-0.1.0-py3-none-any.whl' and adding 'build/bdist.linux-x86_64/wheel' to it\n",
            "adding 'project_setup/__init__.py'\n",
            "adding 'project_setup/project_setup.py'\n",
            "adding 'ai_project_setup-0.1.0.dist-info/METADATA'\n",
            "adding 'ai_project_setup-0.1.0.dist-info/WHEEL'\n",
            "adding 'ai_project_setup-0.1.0.dist-info/top_level.txt'\n",
            "adding 'ai_project_setup-0.1.0.dist-info/RECORD'\n",
            "removing build/bdist.linux-x86_64/wheel\n"
          ]
        }
      ]
    },
    {
      "cell_type": "code",
      "source": [
        "!pip install twine\n",
        "\n",
        "\n"
      ],
      "metadata": {
        "colab": {
          "base_uri": "https://localhost:8080/"
        },
        "id": "rou_uOxOLL_h",
        "outputId": "52c2c411-7659-41b5-e07c-dc672cb106b8"
      },
      "execution_count": null,
      "outputs": [
        {
          "output_type": "stream",
          "name": "stdout",
          "text": [
            "Collecting twine\n",
            "  Downloading twine-5.0.0-py3-none-any.whl (37 kB)\n",
            "Collecting pkginfo>=1.8.1 (from twine)\n",
            "  Downloading pkginfo-1.10.0-py3-none-any.whl (30 kB)\n",
            "Collecting readme-renderer>=35.0 (from twine)\n",
            "  Downloading readme_renderer-43.0-py3-none-any.whl (13 kB)\n",
            "Requirement already satisfied: requests>=2.20 in /usr/local/lib/python3.10/dist-packages (from twine) (2.31.0)\n",
            "Collecting requests-toolbelt!=0.9.0,>=0.8.0 (from twine)\n",
            "  Downloading requests_toolbelt-1.0.0-py2.py3-none-any.whl (54 kB)\n",
            "\u001b[2K     \u001b[90m━━━━━━━━━━━━━━━━━━━━━━━━━━━━━━━━━━━━━━━━\u001b[0m \u001b[32m54.5/54.5 kB\u001b[0m \u001b[31m7.6 MB/s\u001b[0m eta \u001b[36m0:00:00\u001b[0m\n",
            "\u001b[?25hRequirement already satisfied: urllib3>=1.26.0 in /usr/local/lib/python3.10/dist-packages (from twine) (2.0.7)\n",
            "Requirement already satisfied: importlib-metadata>=3.6 in /usr/local/lib/python3.10/dist-packages (from twine) (7.1.0)\n",
            "Requirement already satisfied: keyring>=15.1 in /usr/lib/python3/dist-packages (from twine) (23.5.0)\n",
            "Collecting rfc3986>=1.4.0 (from twine)\n",
            "  Downloading rfc3986-2.0.0-py2.py3-none-any.whl (31 kB)\n",
            "Requirement already satisfied: rich>=12.0.0 in /usr/local/lib/python3.10/dist-packages (from twine) (13.7.1)\n",
            "Requirement already satisfied: zipp>=0.5 in /usr/local/lib/python3.10/dist-packages (from importlib-metadata>=3.6->twine) (3.18.1)\n",
            "Collecting nh3>=0.2.14 (from readme-renderer>=35.0->twine)\n",
            "  Downloading nh3-0.2.17-cp37-abi3-manylinux_2_17_x86_64.manylinux2014_x86_64.whl (777 kB)\n",
            "\u001b[2K     \u001b[90m━━━━━━━━━━━━━━━━━━━━━━━━━━━━━━━━━━━━━━━━\u001b[0m \u001b[32m777.1/777.1 kB\u001b[0m \u001b[31m16.3 MB/s\u001b[0m eta \u001b[36m0:00:00\u001b[0m\n",
            "\u001b[?25hRequirement already satisfied: docutils>=0.13.1 in /usr/local/lib/python3.10/dist-packages (from readme-renderer>=35.0->twine) (0.18.1)\n",
            "Requirement already satisfied: Pygments>=2.5.1 in /usr/local/lib/python3.10/dist-packages (from readme-renderer>=35.0->twine) (2.16.1)\n",
            "Requirement already satisfied: charset-normalizer<4,>=2 in /usr/local/lib/python3.10/dist-packages (from requests>=2.20->twine) (3.3.2)\n",
            "Requirement already satisfied: idna<4,>=2.5 in /usr/local/lib/python3.10/dist-packages (from requests>=2.20->twine) (3.7)\n",
            "Requirement already satisfied: certifi>=2017.4.17 in /usr/local/lib/python3.10/dist-packages (from requests>=2.20->twine) (2024.2.2)\n",
            "Requirement already satisfied: markdown-it-py>=2.2.0 in /usr/local/lib/python3.10/dist-packages (from rich>=12.0.0->twine) (3.0.0)\n",
            "Requirement already satisfied: mdurl~=0.1 in /usr/local/lib/python3.10/dist-packages (from markdown-it-py>=2.2.0->rich>=12.0.0->twine) (0.1.2)\n",
            "Installing collected packages: nh3, rfc3986, readme-renderer, pkginfo, requests-toolbelt, twine\n",
            "Successfully installed nh3-0.2.17 pkginfo-1.10.0 readme-renderer-43.0 requests-toolbelt-1.0.0 rfc3986-2.0.0 twine-5.0.0\n"
          ]
        }
      ]
    },
    {
      "cell_type": "code",
      "source": [
        "!twine upload dist/*\n"
      ],
      "metadata": {
        "colab": {
          "base_uri": "https://localhost:8080/"
        },
        "id": "iH8yMBLfLbM5",
        "outputId": "31e5e05e-0fe5-4faa-f5d2-8eddb6d20ccd"
      },
      "execution_count": null,
      "outputs": [
        {
          "output_type": "stream",
          "name": "stdout",
          "text": [
            "Uploading distributions to https://upload.pypi.org/legacy/\n",
            "\u001b[33mWARNING \u001b[0m Error getting password from keyring                                                        \n",
            "         Traceback (most recent call last):                                                         \n",
            "           File \"/usr/local/lib/python3.10/dist-packages/twine/auth.py\", line 81, in                \n",
            "         get_password_from_keyring                                                                  \n",
            "             return cast(str, keyring.get_password(system, username))                               \n",
            "           File \"/usr/lib/python3/dist-packages/keyring/core.py\", line 55, in get_password          \n",
            "             return get_keyring().get_password(service_name, username)                              \n",
            "           File \"/usr/lib/python3/dist-packages/keyring/backends/fail.py\", line 25, in get_password \n",
            "             raise NoKeyringError(msg)                                                              \n",
            "         keyring.errors.NoKeyringError: No recommended backend was available. Install a recommended \n",
            "         3rd party backend package; or, install the keyrings.alt package if you want to use the     \n",
            "         non-recommended backends. See https://pypi.org/project/keyring for details.                \n",
            "Enter your API token: \n",
            "Uploading ai_project_setup-0.1.0-py3-none-any.whl\n",
            "\u001b[2K\u001b[35m  0%\u001b[0m \u001b[90m━━━━━━━━━━━━━━━━━━━━━━━━━━━━━━━━━━━━━━━━\u001b[0m \u001b[32m0.0/5.6 kB\u001b[0m • \u001b[36m--:--\u001b[0m • \u001b[31m?\u001b[0m\n",
            "\u001b[2K\u001b[35m100%\u001b[0m \u001b[90m━━━━━━━━━━━━━━━━━━━━━━━━━━━━━━━━━━━━━━━━\u001b[0m \u001b[32m5.6/5.6 kB\u001b[0m • \u001b[33m00:00\u001b[0m • \u001b[31m?\u001b[0m\n",
            "\u001b[?25hUploading ai_project_setup-0.1.0.tar.gz\n",
            "\u001b[2K\u001b[35m100%\u001b[0m \u001b[90m━━━━━━━━━━━━━━━━━━━━━━━━━━━━━━━━━━━━━━━━\u001b[0m \u001b[32m5.2/5.2 kB\u001b[0m • \u001b[33m00:00\u001b[0m • \u001b[31m?\u001b[0m\n",
            "\u001b[?25h\n",
            "\u001b[32mView at:\u001b[0m\n",
            "https://pypi.org/project/ai-project-setup/0.1.0/\n"
          ]
        }
      ]
    },
    {
      "cell_type": "code",
      "source": [
        "%cd /content/AI-Project-Starter-Pack\n",
        "!git add ."
      ],
      "metadata": {
        "colab": {
          "base_uri": "https://localhost:8080/"
        },
        "id": "bbptRoQjB6nt",
        "outputId": "76d4ac65-03d9-4698-e5ad-8b777a485e5c"
      },
      "execution_count": null,
      "outputs": [
        {
          "output_type": "stream",
          "name": "stdout",
          "text": [
            "/content/AI-Project-Starter-Pack\n"
          ]
        }
      ]
    },
    {
      "cell_type": "code",
      "source": [
        "!git commit -m \"Deployed package starter pack v0.1.0\""
      ],
      "metadata": {
        "colab": {
          "base_uri": "https://localhost:8080/"
        },
        "id": "gCqRf81TCHn-",
        "outputId": "0574e7e9-8992-4b96-b00e-0de174f69c33"
      },
      "execution_count": null,
      "outputs": [
        {
          "output_type": "stream",
          "name": "stdout",
          "text": [
            "[main 101690e] Deployed package starter pack v0.1.0\n",
            " 10 files changed, 157 insertions(+)\n",
            " create mode 100644 ai_project_setup_package/ai_project_setup.egg-info/PKG-INFO\n",
            " create mode 100644 ai_project_setup_package/ai_project_setup.egg-info/SOURCES.txt\n",
            " create mode 100644 ai_project_setup_package/ai_project_setup.egg-info/dependency_links.txt\n",
            " create mode 100644 ai_project_setup_package/ai_project_setup.egg-info/top_level.txt\n",
            " create mode 100644 ai_project_setup_package/build/lib/project_setup/__init__.py\n",
            " create mode 100644 ai_project_setup_package/build/lib/project_setup/project_setup.py\n",
            " create mode 100644 ai_project_setup_package/dist/ai_project_setup-0.1.0-py3-none-any.whl\n",
            " create mode 100644 ai_project_setup_package/dist/ai_project_setup-0.1.0.tar.gz\n",
            " create mode 100644 ai_project_setup_package/project_setup/__pycache__/__init__.cpython-310.pyc\n",
            " create mode 100644 ai_project_setup_package/project_setup/__pycache__/project_setup.cpython-310.pyc\n"
          ]
        }
      ]
    },
    {
      "cell_type": "code",
      "source": [
        "from google.colab import userdata\n",
        "\n",
        "!git remote set-url origin https://{userdata.get('git')}@github.com/pat2echo/AI-Project-Starter-Pack.git\n",
        "!git push origin main"
      ],
      "metadata": {
        "colab": {
          "base_uri": "https://localhost:8080/"
        },
        "id": "Zma2o1wCDKDW",
        "outputId": "a6e61583-6e56-4c74-b15d-61003b813628"
      },
      "execution_count": null,
      "outputs": [
        {
          "output_type": "stream",
          "name": "stdout",
          "text": [
            "Enumerating objects: 20, done.\n",
            "Counting objects:   5% (1/20)\rCounting objects:  10% (2/20)\rCounting objects:  15% (3/20)\rCounting objects:  20% (4/20)\rCounting objects:  25% (5/20)\rCounting objects:  30% (6/20)\rCounting objects:  35% (7/20)\rCounting objects:  40% (8/20)\rCounting objects:  45% (9/20)\rCounting objects:  50% (10/20)\rCounting objects:  55% (11/20)\rCounting objects:  60% (12/20)\rCounting objects:  65% (13/20)\rCounting objects:  70% (14/20)\rCounting objects:  75% (15/20)\rCounting objects:  80% (16/20)\rCounting objects:  85% (17/20)\rCounting objects:  90% (18/20)\rCounting objects:  95% (19/20)\rCounting objects: 100% (20/20)\rCounting objects: 100% (20/20), done.\n",
            "Delta compression using up to 2 threads\n",
            "Compressing objects:   7% (1/13)\rCompressing objects:  15% (2/13)\rCompressing objects:  23% (3/13)\rCompressing objects:  30% (4/13)\rCompressing objects:  38% (5/13)\rCompressing objects:  46% (6/13)\rCompressing objects:  53% (7/13)\rCompressing objects:  61% (8/13)\rCompressing objects:  69% (9/13)\rCompressing objects:  76% (10/13)\rCompressing objects:  84% (11/13)\rCompressing objects:  92% (12/13)\rCompressing objects: 100% (13/13)\rCompressing objects: 100% (13/13), done.\n",
            "Writing objects:   5% (1/17)\rWriting objects:  11% (2/17)\rWriting objects:  17% (3/17)\rWriting objects:  23% (4/17)\rWriting objects:  29% (5/17)\rWriting objects:  35% (6/17)\rWriting objects:  41% (7/17)\rWriting objects:  47% (8/17)\rWriting objects:  52% (9/17)\rWriting objects:  58% (10/17)\rWriting objects:  64% (11/17)\rWriting objects:  70% (12/17)\rWriting objects:  76% (13/17)\rWriting objects:  82% (14/17)\rWriting objects:  88% (15/17)\rWriting objects:  94% (16/17)\rWriting objects: 100% (17/17)\rWriting objects: 100% (17/17), 8.23 KiB | 2.74 MiB/s, done.\n",
            "Total 17 (delta 0), reused 0 (delta 0), pack-reused 0\n",
            "To https://github.com/pat2echo/AI-Project-Starter-Pack.git\n",
            "   0d6e9bb..101690e  main -> main\n"
          ]
        }
      ]
    },
    {
      "cell_type": "code",
      "source": [
        "from google.colab import drive\n",
        "drive.mount('/content/drive')\n",
        "\n",
        "folder_path = '/content/drive/MyDrive/Colab Notebooks/'\n",
        "\n",
        "notebook_name = 'Untitled1.ipynb'\n",
        "!cp \"{folder_path}{notebook_name}\" \"{notebook_name}\""
      ],
      "metadata": {
        "id": "bbaX6dSwcb3P"
      },
      "execution_count": null,
      "outputs": []
    }
  ]
}